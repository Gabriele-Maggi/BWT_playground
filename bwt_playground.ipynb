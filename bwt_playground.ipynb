{
  "nbformat": 4,
  "nbformat_minor": 0,
  "metadata": {
    "colab": {
      "provenance": [],
      "authorship_tag": "ABX9TyPbTucW0XaQvh5QXrhXTzvI",
      "include_colab_link": true
    },
    "kernelspec": {
      "name": "python3",
      "display_name": "Python 3"
    },
    "language_info": {
      "name": "python"
    }
  },
  "cells": [
    {
      "cell_type": "markdown",
      "metadata": {
        "id": "view-in-github",
        "colab_type": "text"
      },
      "source": [
        "<a href=\"https://colab.research.google.com/github/Gabriele-Maggi/BWT_playground/blob/main/bwt_playground.ipynb\" target=\"_parent\"><img src=\"https://colab.research.google.com/assets/colab-badge.svg\" alt=\"Open In Colab\"/></a>"
      ]
    },
    {
      "cell_type": "code",
      "source": [
        "import numpy as np\n",
        "\n",
        "input_string = \"The quick brown fox jumps over the lazy dog\"\n",
        "\n",
        "input_string = \"ABRACADABRA\""
      ],
      "metadata": {
        "id": "0AnVT6mtvKl9"
      },
      "execution_count": 338,
      "outputs": []
    },
    {
      "cell_type": "markdown",
      "source": [
        "# Preprocessing iniziale del testo"
      ],
      "metadata": {
        "id": "eX_pn2Qp3sW8"
      }
    },
    {
      "cell_type": "code",
      "execution_count": 339,
      "metadata": {
        "colab": {
          "base_uri": "https://localhost:8080/"
        },
        "id": "pgNuAVkmt3d5",
        "outputId": "a86a4cfa-550a-4555-beaf-4214b8528541"
      },
      "outputs": [
        {
          "output_type": "stream",
          "name": "stdout",
          "text": [
            "abracadabra$\n"
          ]
        }
      ],
      "source": [
        "def preprocess_string(input_string):\n",
        "  lowercase_string = input_string.lower()\n",
        "  underscored_string = lowercase_string.replace(\" \", \"_\")\n",
        "  final_string = underscored_string + \"$\"\n",
        "  return final_string\n",
        "\n",
        "preprocessed_string = preprocess_string(input_string)\n",
        "print(preprocessed_string)  # Output: this_is_a_sample_string$"
      ]
    },
    {
      "cell_type": "markdown",
      "source": [
        "# Funzioni di creazione dell'FM_INDEX"
      ],
      "metadata": {
        "id": "6T0BUX6L3oKx"
      }
    },
    {
      "cell_type": "code",
      "source": [
        "def get_alphabet(input_string):\n",
        "  return sorted(list(set(input_string)))\n",
        "\n",
        "def get_rotations(input_string, i):\n",
        "  f = input_string[0:i]\n",
        "  l = input_string[i:len(input_string)]\n",
        "  return l+f\n",
        "\n",
        "def order_by_lex(input_str):\n",
        "  strings = [];\n",
        "  for i in range(len(input_str)):\n",
        "    strings.append(get_rotations(input_str, i))\n",
        "  strings.sort()\n",
        "  return strings\n",
        "\n",
        "def get_bwt(lex_ordered_strings):\n",
        "  return [s[-1] for s in lex_ordered_strings]\n",
        "\n",
        "def get_occ(bwt):\n",
        "  # ritrona un array (alfabeto x bwt)\n",
        "  alph = get_alphabet(bwt);\n",
        "  occ_lut = np.zeros((len(alph), len(bwt)))\n",
        "  # array.index(letter)\n",
        "  for i in range(len(alph)):\n",
        "    for j in range(len(bwt)):\n",
        "      if bwt[j] == alph[i]:\n",
        "        occ_lut[i][j] = occ_lut[i][j-1] + 1\n",
        "      else:\n",
        "        occ_lut[i][j] = occ_lut[i][j-1]\n",
        "  return occ_lut\n",
        "\n",
        "def get_c(bwt):\n",
        "  alph = get_alphabet(bwt);\n",
        "  c = np.zeros(len(alph))\n",
        "  sorted_bwt = sorted(bwt)\n",
        "  for i in range(len(sorted_bwt)):\n",
        "    ch = sorted_bwt[i];\n",
        "    j = alph.index(ch)\n",
        "    if c[j] == 0:\n",
        "      c[j] = i\n",
        "  return c\n"
      ],
      "metadata": {
        "id": "wZjxXT2FumFX"
      },
      "execution_count": 340,
      "outputs": []
    },
    {
      "cell_type": "code",
      "source": [
        "lex_ordered_strings = order_by_lex(preprocessed_string)\n",
        "print(lex_ordered_strings)\n",
        "bwt = get_bwt(lex_ordered_strings)\n",
        "bwt\n"
      ],
      "metadata": {
        "colab": {
          "base_uri": "https://localhost:8080/"
        },
        "id": "bQO10JRXwWLr",
        "outputId": "885e2816-43db-4300-99fa-f48630567db8"
      },
      "execution_count": 341,
      "outputs": [
        {
          "output_type": "stream",
          "name": "stdout",
          "text": [
            "['$abracadabra', 'a$abracadabr', 'abra$abracad', 'abracadabra$', 'acadabra$abr', 'adabra$abrac', 'bra$abracada', 'bracadabra$a', 'cadabra$abra', 'dabra$abraca', 'ra$abracadab', 'racadabra$ab']\n"
          ]
        },
        {
          "output_type": "execute_result",
          "data": {
            "text/plain": [
              "['a', 'r', 'd', '$', 'r', 'c', 'a', 'a', 'a', 'a', 'b', 'b']"
            ]
          },
          "metadata": {},
          "execution_count": 341
        }
      ]
    },
    {
      "cell_type": "markdown",
      "source": [
        "# BWT utilizzi"
      ],
      "metadata": {
        "id": "w4h26PH33xeB"
      }
    },
    {
      "cell_type": "markdown",
      "source": [
        "## Ricostruzione del testo"
      ],
      "metadata": {
        "id": "mUBEv7qf3_pf"
      }
    },
    {
      "cell_type": "code",
      "source": [
        "occ = get_occ(bwt);\n",
        "c = get_c(bwt);\n",
        "\n",
        "print(c)\n",
        "print(occ)\n",
        "print(bwt)\n",
        "\n",
        "def recover_F(bwt, occ, c):\n",
        "  n = len(bwt)\n",
        "  alph = get_alphabet(bwt)\n",
        "  t = [\"\" for x in range(n)]\n",
        "  for i in range(n):\n",
        "    sigma = alph.index(bwt[i])\n",
        "    LF = occ[sigma][i] + c[sigma]\n",
        "    LF = int(LF)\n",
        "    print(LF)\n",
        "    t[LF-1] = bwt[i]\n",
        "  return t\n",
        "\n",
        "def recover_t(bwt, occ, c):\n",
        "  n = len(bwt)\n",
        "  alph = get_alphabet(bwt)\n",
        "  t = [\"\" for x in range(n)]\n",
        "\n",
        "  last_lf = 0;\n",
        "  for i in range(n):\n",
        "\n",
        "      # print(last_lf)\n",
        "      # print(bwt[last_lf])\n",
        "      t[i] = bwt[last_lf]\n",
        "\n",
        "      sigma = alph.index(bwt[last_lf])\n",
        "      LF = int(occ[sigma][last_lf] + c[sigma])\n",
        "      last_lf = LF-1;\n",
        "  t = get_rotations(t, n-1)\n",
        "  t = t[::-1]\n",
        "  return t\n",
        "\n",
        "# F = recover_F(bwt, occ, c)\n",
        "# print(F)\n",
        "\n",
        "t = recover_t(bwt, occ, c)\n",
        "print(t)"
      ],
      "metadata": {
        "colab": {
          "base_uri": "https://localhost:8080/"
        },
        "id": "00_u8N_Y33FX",
        "outputId": "e615d393-235c-42e5-a8d7-3c942866d0db"
      },
      "execution_count": 342,
      "outputs": [
        {
          "output_type": "stream",
          "name": "stdout",
          "text": [
            "[ 0.  1.  6.  8.  9. 10.]\n",
            "[[0. 0. 0. 1. 1. 1. 1. 1. 1. 1. 1. 1.]\n",
            " [1. 1. 1. 1. 1. 1. 2. 3. 4. 5. 5. 5.]\n",
            " [0. 0. 0. 0. 0. 0. 0. 0. 0. 0. 1. 2.]\n",
            " [0. 0. 0. 0. 0. 1. 1. 1. 1. 1. 1. 1.]\n",
            " [0. 0. 1. 1. 1. 1. 1. 1. 1. 1. 1. 1.]\n",
            " [0. 1. 1. 1. 2. 2. 2. 2. 2. 2. 2. 2.]]\n",
            "['a', 'r', 'd', '$', 'r', 'c', 'a', 'a', 'a', 'a', 'b', 'b']\n",
            "['a', 'b', 'r', 'a', 'c', 'a', 'd', 'a', 'b', 'r', 'a', '$']\n"
          ]
        }
      ]
    },
    {
      "cell_type": "markdown",
      "source": [
        "## Ricerca del pattern"
      ],
      "metadata": {
        "id": "kYXLZ6g3ENl4"
      }
    },
    {
      "cell_type": "code",
      "source": [
        "occ = get_occ(bwt);\n",
        "c = get_c(bwt);\n",
        "\n",
        "# Ricerca del pattern backword su BWT vanilla.\n",
        "pattern = \"abra\"\n",
        "\n",
        "def backward_extend(b, e, sigma, occ, c):\n",
        "  b1 = c[sigma] + occ[sigma][b] - 1\n",
        "  e1 = c[sigma] + occ[sigma][e] - 1\n",
        "  return int(b1), int(e1)\n",
        "\n",
        "def ricerca_pattern(pattern, bwt, occ, c):\n",
        "  alph = get_alphabet(bwt)\n",
        "\n",
        "  b = 0;\n",
        "  e = len(bwt)-1;\n",
        "\n",
        "  for i in range(len(pattern) - 1, -1, -1):\n",
        "    sigma = alph.index(pattern[i])\n",
        "    [b, e] = backward_extend(b, e, sigma, occ, c)\n",
        "    # print(b, e)\n",
        "  return b, e;\n",
        "\n",
        "\n",
        "[b, e] = ricerca_pattern(pattern, bwt, occ, c);\n",
        "print(f\"strings: {b, e} patterns: {lex_ordered_strings[b:e+1]}\")"
      ],
      "metadata": {
        "colab": {
          "base_uri": "https://localhost:8080/"
        },
        "id": "o-6W502IZje0",
        "outputId": "985bdcdf-793f-4709-c31f-c1864067c3f6"
      },
      "execution_count": 358,
      "outputs": [
        {
          "output_type": "stream",
          "name": "stdout",
          "text": [
            "strings: (2, 3) patterns: ['abra$abracad', 'abracadabra$']\n"
          ]
        }
      ]
    },
    {
      "cell_type": "code",
      "source": [
        "print(f\"Final interval for pattern '{pattern}': [{b}, {e})\")\n",
        "print(f\"{lex_ordered_strings[b:e]}\")"
      ],
      "metadata": {
        "colab": {
          "base_uri": "https://localhost:8080/"
        },
        "id": "osqmC7DuaztV",
        "outputId": "dff20e09-6d3d-4f7d-bd8a-bdbda32e79ec"
      },
      "execution_count": 359,
      "outputs": [
        {
          "output_type": "stream",
          "name": "stdout",
          "text": [
            "Final interval for pattern 'abra': [2, 3)\n",
            "['abra$abracad']\n"
          ]
        }
      ]
    }
  ]
}