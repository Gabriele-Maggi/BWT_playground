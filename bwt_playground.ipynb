{
  "nbformat": 4,
  "nbformat_minor": 0,
  "metadata": {
    "colab": {
      "provenance": [],
      "authorship_tag": "ABX9TyN/niVjIvDMZZc/5r3qv0/L",
      "include_colab_link": true
    },
    "kernelspec": {
      "name": "python3",
      "display_name": "Python 3"
    },
    "language_info": {
      "name": "python"
    }
  },
  "cells": [
    {
      "cell_type": "markdown",
      "metadata": {
        "id": "view-in-github",
        "colab_type": "text"
      },
      "source": [
        "<a href=\"https://colab.research.google.com/github/Gabriele-Maggi/BWT_playground/blob/main/bwt_playground.ipynb\" target=\"_parent\"><img src=\"https://colab.research.google.com/assets/colab-badge.svg\" alt=\"Open In Colab\"/></a>"
      ]
    },
    {
      "cell_type": "code",
      "source": [
        "import numpy as np\n",
        "\n",
        "input_string = \"The quick brown fox jumps over the lazy dog\"\n",
        "\n",
        "input_string = \"ABRACADABRA\""
      ],
      "metadata": {
        "id": "0AnVT6mtvKl9"
      },
      "execution_count": 205,
      "outputs": []
    },
    {
      "cell_type": "markdown",
      "source": [
        "# Preprocessing iniziale del testo"
      ],
      "metadata": {
        "id": "eX_pn2Qp3sW8"
      }
    },
    {
      "cell_type": "code",
      "execution_count": 206,
      "metadata": {
        "colab": {
          "base_uri": "https://localhost:8080/"
        },
        "id": "pgNuAVkmt3d5",
        "outputId": "2e4068a2-011e-4e85-cbbb-ee2a241162ec"
      },
      "outputs": [
        {
          "output_type": "stream",
          "name": "stdout",
          "text": [
            "abracadabra$\n"
          ]
        }
      ],
      "source": [
        "def preprocess_string(input_string):\n",
        "  lowercase_string = input_string.lower()\n",
        "  underscored_string = lowercase_string.replace(\" \", \"_\")\n",
        "  final_string = underscored_string + \"$\"\n",
        "  return final_string\n",
        "\n",
        "preprocessed_string = preprocess_string(input_string)\n",
        "print(preprocessed_string)  # Output: this_is_a_sample_string$"
      ]
    },
    {
      "cell_type": "markdown",
      "source": [
        "# Funzioni di creazione dell'FM_INDEX"
      ],
      "metadata": {
        "id": "6T0BUX6L3oKx"
      }
    },
    {
      "cell_type": "code",
      "source": [
        "def get_alphabet(input_string):\n",
        "  return sorted(list(set(input_string)))\n",
        "\n",
        "def get_rotations(input_string, i):\n",
        "  f = input_string[0:i]\n",
        "  l = input_string[i:len(input_string)]\n",
        "  return l+f\n",
        "\n",
        "def order_by_lex(input_str):\n",
        "  strings = [];\n",
        "  for i in range(len(input_str)):\n",
        "    strings.append(get_rotations(input_str, i))\n",
        "  strings.sort()\n",
        "  return strings\n",
        "\n",
        "def get_bwt(lex_ordered_strings):\n",
        "  return [s[-1] for s in lex_ordered_strings]\n",
        "\n",
        "def get_occ(bwt):\n",
        "  # ritrona un array (alfabeto x bwt)\n",
        "  alph = get_alphabet(bwt);\n",
        "  occ_lut = np.zeros((len(alph), len(bwt)))\n",
        "  # array.index(letter)\n",
        "  for i in range(len(alph)):\n",
        "    for j in range(len(bwt)):\n",
        "      if bwt[j] == alph[i]:\n",
        "        occ_lut[i][j] = occ_lut[i][j-1] + 1\n",
        "      else:\n",
        "        occ_lut[i][j] = occ_lut[i][j-1]\n",
        "  return occ_lut\n",
        "\n",
        "def get_c(bwt):\n",
        "  alph = get_alphabet(bwt);\n",
        "  c = np.zeros(len(alph))\n",
        "  sorted_bwt = sorted(bwt)\n",
        "  for i in range(len(sorted_bwt)):\n",
        "    ch = sorted_bwt[i];\n",
        "    j = alph.index(ch)\n",
        "    if c[j] == 0:\n",
        "      c[j] = i\n",
        "  return c\n"
      ],
      "metadata": {
        "id": "wZjxXT2FumFX"
      },
      "execution_count": 207,
      "outputs": []
    },
    {
      "cell_type": "code",
      "source": [
        "lex_ordered_strings = order_by_lex(preprocessed_string)\n",
        "print(lex_ordered_strings)\n",
        "bwt = get_bwt(lex_ordered_strings)\n",
        "bwt\n"
      ],
      "metadata": {
        "colab": {
          "base_uri": "https://localhost:8080/"
        },
        "id": "bQO10JRXwWLr",
        "outputId": "6c243eef-d1ad-4e84-a357-e54d33e9b157"
      },
      "execution_count": 208,
      "outputs": [
        {
          "output_type": "stream",
          "name": "stdout",
          "text": [
            "['$abracadabra', 'a$abracadabr', 'abra$abracad', 'abracadabra$', 'acadabra$abr', 'adabra$abrac', 'bra$abracada', 'bracadabra$a', 'cadabra$abra', 'dabra$abraca', 'ra$abracadab', 'racadabra$ab']\n"
          ]
        },
        {
          "output_type": "execute_result",
          "data": {
            "text/plain": [
              "['a', 'r', 'd', '$', 'r', 'c', 'a', 'a', 'a', 'a', 'b', 'b']"
            ]
          },
          "metadata": {},
          "execution_count": 208
        }
      ]
    },
    {
      "cell_type": "markdown",
      "source": [
        "# BWT utilizzi"
      ],
      "metadata": {
        "id": "w4h26PH33xeB"
      }
    },
    {
      "cell_type": "markdown",
      "source": [
        "## Ricostruzione del testo"
      ],
      "metadata": {
        "id": "mUBEv7qf3_pf"
      }
    },
    {
      "cell_type": "code",
      "source": [
        "occ = get_occ(bwt);\n",
        "c = get_c(bwt);\n",
        "\n",
        "# print(c)\n",
        "# print(occ)\n",
        "# print(bwt)\n",
        "\n",
        "def recover_F(bwt, occ, c):\n",
        "  n = len(bwt)\n",
        "  alph = get_alphabet(bwt)\n",
        "  t = [\"\" for x in range(n)]\n",
        "  for i in range(n):\n",
        "    sigma = alph.index(bwt[i])\n",
        "    LF = occ[sigma][i] + c[sigma]\n",
        "    LF = int(LF)\n",
        "    print(LF)\n",
        "    t[LF-1] = bwt[i]\n",
        "  return t\n",
        "\n",
        "def recover_t(bwt, occ, c):\n",
        "  n = len(bwt)\n",
        "  alph = get_alphabet(bwt)\n",
        "  t = [\"\" for x in range(n)]\n",
        "\n",
        "  last_lf = 0;\n",
        "  for i in range(n):\n",
        "\n",
        "      # print(last_lf)\n",
        "      # print(bwt[last_lf])\n",
        "      t[i] = bwt[last_lf]\n",
        "\n",
        "      sigma = alph.index(bwt[last_lf])\n",
        "      LF = int(occ[sigma][last_lf] + c[sigma])\n",
        "      last_lf = LF-1;\n",
        "  t = get_rotations(t, n-1)\n",
        "  t = t[::-1]\n",
        "  return t\n",
        "\n",
        "# F = recover_F(bwt, occ, c)\n",
        "# print(F)\n",
        "\n",
        "t = recover_t(bwt, occ, c)\n",
        "print(t)"
      ],
      "metadata": {
        "colab": {
          "base_uri": "https://localhost:8080/"
        },
        "id": "00_u8N_Y33FX",
        "outputId": "5ec1e267-d05f-481d-ec96-108eb91bacac"
      },
      "execution_count": 232,
      "outputs": [
        {
          "output_type": "stream",
          "name": "stdout",
          "text": [
            "['a', 'b', 'r', 'a', 'c', 'a', 'd', 'a', 'b', 'r', 'a', '$']\n"
          ]
        }
      ]
    },
    {
      "cell_type": "markdown",
      "source": [
        "## Ricerca del pattern"
      ],
      "metadata": {
        "id": "kYXLZ6g3ENl4"
      }
    }
  ]
}